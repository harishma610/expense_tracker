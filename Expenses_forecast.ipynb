{
 "cells": [
  {
   "cell_type": "code",
   "execution_count": 19,
   "id": "4d4dd837",
   "metadata": {},
   "outputs": [],
   "source": [
    "import pandas as pd\n",
    "import numpy as np\n",
    "from db_conn import DBConnection\n",
    "import datetime\n",
    "import psycopg2.extras as extras"
   ]
  },
  {
   "cell_type": "code",
   "execution_count": 20,
   "id": "c4252950",
   "metadata": {},
   "outputs": [],
   "source": [
    "db_obj = DBConnection()\n",
    "expenses = pd.read_sql('select * from expenses;', db_obj.conn, index_col='id');"
   ]
  },
  {
   "cell_type": "markdown",
   "id": "110a036c",
   "metadata": {},
   "source": [
    "# Simple Exponential Smoothing (SES)"
   ]
  },
  {
   "cell_type": "code",
   "execution_count": 21,
   "id": "3279df33",
   "metadata": {},
   "outputs": [
    {
     "data": {
      "text/html": [
       "<div>\n",
       "<style scoped>\n",
       "    .dataframe tbody tr th:only-of-type {\n",
       "        vertical-align: middle;\n",
       "    }\n",
       "\n",
       "    .dataframe tbody tr th {\n",
       "        vertical-align: top;\n",
       "    }\n",
       "\n",
       "    .dataframe thead th {\n",
       "        text-align: right;\n",
       "    }\n",
       "</style>\n",
       "<table border=\"1\" class=\"dataframe\">\n",
       "  <thead>\n",
       "    <tr style=\"text-align: right;\">\n",
       "      <th></th>\n",
       "      <th>expense_date</th>\n",
       "      <th>category</th>\n",
       "      <th>amount</th>\n",
       "    </tr>\n",
       "    <tr>\n",
       "      <th>id</th>\n",
       "      <th></th>\n",
       "      <th></th>\n",
       "      <th></th>\n",
       "    </tr>\n",
       "  </thead>\n",
       "  <tbody>\n",
       "    <tr>\n",
       "      <th>1</th>\n",
       "      <td>2022-01-01</td>\n",
       "      <td>Shopping</td>\n",
       "      <td>11.11</td>\n",
       "    </tr>\n",
       "    <tr>\n",
       "      <th>2</th>\n",
       "      <td>2022-01-02</td>\n",
       "      <td>Mortgage &amp; Rent</td>\n",
       "      <td>1247.44</td>\n",
       "    </tr>\n",
       "    <tr>\n",
       "      <th>3</th>\n",
       "      <td>2022-01-02</td>\n",
       "      <td>Food &amp; Dining</td>\n",
       "      <td>24.22</td>\n",
       "    </tr>\n",
       "    <tr>\n",
       "      <th>4</th>\n",
       "      <td>2022-01-04</td>\n",
       "      <td>Entertainment</td>\n",
       "      <td>11.76</td>\n",
       "    </tr>\n",
       "    <tr>\n",
       "      <th>5</th>\n",
       "      <td>2022-01-05</td>\n",
       "      <td>Food &amp; Dining</td>\n",
       "      <td>25.85</td>\n",
       "    </tr>\n",
       "  </tbody>\n",
       "</table>\n",
       "</div>"
      ],
      "text/plain": [
       "   expense_date         category   amount\n",
       "id                                       \n",
       "1    2022-01-01         Shopping    11.11\n",
       "2    2022-01-02  Mortgage & Rent  1247.44\n",
       "3    2022-01-02    Food & Dining    24.22\n",
       "4    2022-01-04    Entertainment    11.76\n",
       "5    2022-01-05    Food & Dining    25.85"
      ]
     },
     "execution_count": 21,
     "metadata": {},
     "output_type": "execute_result"
    }
   ],
   "source": [
    "expenses = pd.read_sql('''select * from expenses;''', db_obj.conn, index_col='id')\n",
    "expenses.head()"
   ]
  },
  {
   "cell_type": "code",
   "execution_count": 22,
   "id": "d948ac37",
   "metadata": {},
   "outputs": [
    {
     "data": {
      "text/html": [
       "<div>\n",
       "<style scoped>\n",
       "    .dataframe tbody tr th:only-of-type {\n",
       "        vertical-align: middle;\n",
       "    }\n",
       "\n",
       "    .dataframe tbody tr th {\n",
       "        vertical-align: top;\n",
       "    }\n",
       "\n",
       "    .dataframe thead th {\n",
       "        text-align: right;\n",
       "    }\n",
       "</style>\n",
       "<table border=\"1\" class=\"dataframe\">\n",
       "  <thead>\n",
       "    <tr style=\"text-align: right;\">\n",
       "      <th></th>\n",
       "      <th>expense_date</th>\n",
       "      <th>amount</th>\n",
       "    </tr>\n",
       "  </thead>\n",
       "  <tbody>\n",
       "    <tr>\n",
       "      <th>0</th>\n",
       "      <td>2021-01-31</td>\n",
       "      <td>2931.45</td>\n",
       "    </tr>\n",
       "    <tr>\n",
       "      <th>1</th>\n",
       "      <td>2021-02-28</td>\n",
       "      <td>3165.05</td>\n",
       "    </tr>\n",
       "    <tr>\n",
       "      <th>2</th>\n",
       "      <td>2021-03-31</td>\n",
       "      <td>3500.16</td>\n",
       "    </tr>\n",
       "    <tr>\n",
       "      <th>3</th>\n",
       "      <td>2021-04-30</td>\n",
       "      <td>6029.54</td>\n",
       "    </tr>\n",
       "    <tr>\n",
       "      <th>4</th>\n",
       "      <td>2021-05-31</td>\n",
       "      <td>4292.03</td>\n",
       "    </tr>\n",
       "  </tbody>\n",
       "</table>\n",
       "</div>"
      ],
      "text/plain": [
       "  expense_date   amount\n",
       "0   2021-01-31  2931.45\n",
       "1   2021-02-28  3165.05\n",
       "2   2021-03-31  3500.16\n",
       "3   2021-04-30  6029.54\n",
       "4   2021-05-31  4292.03"
      ]
     },
     "execution_count": 22,
     "metadata": {},
     "output_type": "execute_result"
    }
   ],
   "source": [
    "expenses['expense_date'] = pd.to_datetime(expenses['expense_date'], infer_datetime_format=True)\n",
    "expenses = pd.DataFrame(expenses.resample(rule='M', on='expense_date')['amount'].sum()).reset_index()\n",
    "expenses.head()"
   ]
  },
  {
   "cell_type": "code",
   "execution_count": 23,
   "id": "73fe341d",
   "metadata": {},
   "outputs": [],
   "source": [
    "dates = pd.to_datetime(expenses['expense_date'], infer_datetime_format=True)\n",
    "dates = dates.dt.to_pydatetime()\n",
    "dates = [datetime.date(year=date.year, month=date.month, day=date.day) for date in dates]"
   ]
  },
  {
   "cell_type": "code",
   "execution_count": 24,
   "id": "fa658eba",
   "metadata": {},
   "outputs": [
    {
     "data": {
      "text/plain": [
       "datetime.date(2022, 12, 31)"
      ]
     },
     "execution_count": 24,
     "metadata": {},
     "output_type": "execute_result"
    }
   ],
   "source": [
    "last_predicted_date = max(dates)\n",
    "last_predicted_date"
   ]
  },
  {
   "cell_type": "code",
   "execution_count": 25,
   "id": "14d4d83f",
   "metadata": {},
   "outputs": [
    {
     "data": {
      "text/html": [
       "<div>\n",
       "<style scoped>\n",
       "    .dataframe tbody tr th:only-of-type {\n",
       "        vertical-align: middle;\n",
       "    }\n",
       "\n",
       "    .dataframe tbody tr th {\n",
       "        vertical-align: top;\n",
       "    }\n",
       "\n",
       "    .dataframe thead th {\n",
       "        text-align: right;\n",
       "    }\n",
       "</style>\n",
       "<table border=\"1\" class=\"dataframe\">\n",
       "  <thead>\n",
       "    <tr style=\"text-align: right;\">\n",
       "      <th></th>\n",
       "      <th>amount</th>\n",
       "    </tr>\n",
       "  </thead>\n",
       "  <tbody>\n",
       "    <tr>\n",
       "      <th>0</th>\n",
       "      <td>2931.45</td>\n",
       "    </tr>\n",
       "    <tr>\n",
       "      <th>1</th>\n",
       "      <td>3165.05</td>\n",
       "    </tr>\n",
       "    <tr>\n",
       "      <th>2</th>\n",
       "      <td>3500.16</td>\n",
       "    </tr>\n",
       "    <tr>\n",
       "      <th>3</th>\n",
       "      <td>6029.54</td>\n",
       "    </tr>\n",
       "    <tr>\n",
       "      <th>4</th>\n",
       "      <td>4292.03</td>\n",
       "    </tr>\n",
       "  </tbody>\n",
       "</table>\n",
       "</div>"
      ],
      "text/plain": [
       "    amount\n",
       "0  2931.45\n",
       "1  3165.05\n",
       "2  3500.16\n",
       "3  6029.54\n",
       "4  4292.03"
      ]
     },
     "execution_count": 25,
     "metadata": {},
     "output_type": "execute_result"
    }
   ],
   "source": [
    "expenses = expenses[[\"amount\"]]\n",
    "expenses.head()"
   ]
  },
  {
   "cell_type": "code",
   "execution_count": 26,
   "id": "fb13ba4f",
   "metadata": {},
   "outputs": [],
   "source": [
    "def last_day_of_month(any_day):\n",
    "    next_month = any_day.replace(day=28) + datetime.timedelta(days=4)\n",
    "    return next_month - datetime.timedelta(days=next_month.day)\n",
    "\n",
    "future_n = 12\n",
    "future_dates = []\n",
    "last_m = last_predicted_date.month\n",
    "last_y = last_predicted_date.year\n",
    "while future_n:\n",
    "    m = last_m + 1 if last_m != 12 else 1\n",
    "    y = last_y if last_m != 12 else last_y + 1\n",
    "    future_dates.append(last_day_of_month(datetime.date(y, m, 1)))\n",
    "    last_m = m\n",
    "    last_y = y\n",
    "    future_n -= 1\n",
    "future_n = 12"
   ]
  },
  {
   "cell_type": "code",
   "execution_count": 27,
   "id": "840a73c8",
   "metadata": {},
   "outputs": [
    {
     "data": {
      "text/plain": [
       "[datetime.date(2023, 1, 31),\n",
       " datetime.date(2023, 2, 28),\n",
       " datetime.date(2023, 3, 31),\n",
       " datetime.date(2023, 4, 30),\n",
       " datetime.date(2023, 5, 31),\n",
       " datetime.date(2023, 6, 30),\n",
       " datetime.date(2023, 7, 31),\n",
       " datetime.date(2023, 8, 31),\n",
       " datetime.date(2023, 9, 30),\n",
       " datetime.date(2023, 10, 31),\n",
       " datetime.date(2023, 11, 30),\n",
       " datetime.date(2023, 12, 31)]"
      ]
     },
     "execution_count": 27,
     "metadata": {},
     "output_type": "execute_result"
    }
   ],
   "source": [
    "future_dates"
   ]
  },
  {
   "cell_type": "code",
   "execution_count": 28,
   "id": "b9e95e43",
   "metadata": {},
   "outputs": [
    {
     "data": {
      "text/html": [
       "<div>\n",
       "<style scoped>\n",
       "    .dataframe tbody tr th:only-of-type {\n",
       "        vertical-align: middle;\n",
       "    }\n",
       "\n",
       "    .dataframe tbody tr th {\n",
       "        vertical-align: top;\n",
       "    }\n",
       "\n",
       "    .dataframe thead th {\n",
       "        text-align: right;\n",
       "    }\n",
       "</style>\n",
       "<table border=\"1\" class=\"dataframe\">\n",
       "  <thead>\n",
       "    <tr style=\"text-align: right;\">\n",
       "      <th></th>\n",
       "      <th>amount</th>\n",
       "    </tr>\n",
       "  </thead>\n",
       "  <tbody>\n",
       "    <tr>\n",
       "      <th>0</th>\n",
       "      <td>2931.45</td>\n",
       "    </tr>\n",
       "    <tr>\n",
       "      <th>1</th>\n",
       "      <td>3165.05</td>\n",
       "    </tr>\n",
       "    <tr>\n",
       "      <th>2</th>\n",
       "      <td>3500.16</td>\n",
       "    </tr>\n",
       "    <tr>\n",
       "      <th>3</th>\n",
       "      <td>6029.54</td>\n",
       "    </tr>\n",
       "    <tr>\n",
       "      <th>4</th>\n",
       "      <td>4292.03</td>\n",
       "    </tr>\n",
       "  </tbody>\n",
       "</table>\n",
       "</div>"
      ],
      "text/plain": [
       "    amount\n",
       "0  2931.45\n",
       "1  3165.05\n",
       "2  3500.16\n",
       "3  6029.54\n",
       "4  4292.03"
      ]
     },
     "execution_count": 28,
     "metadata": {},
     "output_type": "execute_result"
    }
   ],
   "source": [
    "periods = list(range(len(expenses)))\n",
    "expenses.index = periods\n",
    "expenses.head()"
   ]
  },
  {
   "cell_type": "code",
   "execution_count": 29,
   "id": "2c5af0b6",
   "metadata": {},
   "outputs": [
    {
     "data": {
      "text/plain": [
       "<AxesSubplot:title={'center':'Expenses Overtime'}, xlabel='Period', ylabel='Cost (In Dollars $)'>"
      ]
     },
     "execution_count": 29,
     "metadata": {},
     "output_type": "execute_result"
    },
    {
     "data": {
      "image/png": "[encoded data removed]",
      "text/plain": [
       "<Figure size 432x288 with 1 Axes>"
      ]
     },
     "metadata": {
      "needs_background": "light"
     },
     "output_type": "display_data"
    }
   ],
   "source": [
    "expenses.plot(title='Expenses Overtime', xlabel='Period', ylabel=\"Cost (In Dollars $)\")"
   ]
  },
  {
   "cell_type": "code",
   "execution_count": 30,
   "id": "004eb1bc",
   "metadata": {},
   "outputs": [],
   "source": [
    "from statsmodels.tsa.api import Holt\n",
    "from statsmodels.tsa.api import ExponentialSmoothing\n",
    "import matplotlib.pyplot as plt\n",
    "import matplotlib.dates as mdates"
   ]
  },
  {
   "cell_type": "code",
   "execution_count": 31,
   "id": "f0c711d3",
   "metadata": {},
   "outputs": [],
   "source": [
    "ses_fit = ExponentialSmoothing(expenses, initialization_method=\"estimated\").fit(\n",
    "    smoothing_level=0.8, optimized=True\n",
    ")\n",
    "ses_forecast = ses_fit.forecast(6).rename(r\"$\\alpha=0.8$\")"
   ]
  },
  {
   "cell_type": "code",
   "execution_count": 32,
   "id": "ef67aa1d",
   "metadata": {},
   "outputs": [
    {
     "data": {
      "text/plain": [
       "<matplotlib.legend.Legend at 0x7faf4010f3d0>"
      ]
     },
     "execution_count": 32,
     "metadata": {},
     "output_type": "execute_result"
    },
    {
     "data": {
      "image/png": "[encoded data removed]",
      "text/plain": [
       "<Figure size 864x576 with 1 Axes>"
      ]
     },
     "metadata": {
      "needs_background": "light"
     },
     "output_type": "display_data"
    }
   ],
   "source": [
    "plt.figure(figsize=(12, 8))\n",
    "plt.plot(expenses, marker=\"o\", color=\"black\")\n",
    "plt.plot(ses_fit.fittedvalues, marker=\"o\", color=\"red\")\n",
    "(line3,) = plt.plot(ses_forecast, marker=\"o\", color=\"red\")\n",
    "plt.legend([line3], [ses_forecast.name])"
   ]
  },
  {
   "cell_type": "code",
   "execution_count": 36,
   "id": "76504d5a",
   "metadata": {},
   "outputs": [
    {
     "data": {
      "text/plain": [
       "24    3332.905556\n",
       "25    3332.905556\n",
       "26    3332.905556\n",
       "27    3332.905556\n",
       "28    3332.905556\n",
       "29    3332.905556\n",
       "Name: $\\alpha=0.8$, dtype: float64"
      ]
     },
     "execution_count": 36,
     "metadata": {},
     "output_type": "execute_result"
    }
   ],
   "source": [
    "ses_forecast"
   ]
  },
  {
   "cell_type": "code",
   "execution_count": 37,
   "id": "11f9d8a9",
   "metadata": {},
   "outputs": [],
   "source": [
    "hw_add = ExponentialSmoothing(\n",
    "    expenses,\n",
    "    seasonal_periods=4,\n",
    "    trend=\"add\",\n",
    "    seasonal=\"add\",\n",
    "    use_boxcox=True,\n",
    "    initialization_method=\"estimated\",\n",
    ").fit()\n",
    "hw_add_fitted_values = list(hw_add.fittedvalues)\n",
    "hw_add_forecast_values = hw_add.forecast(future_n)"
   ]
  },
  {
   "cell_type": "code",
   "execution_count": 38,
   "id": "dc47d8ab",
   "metadata": {},
   "outputs": [
    {
     "data": {
      "text/plain": [
       "24    3420.460981\n",
       "25    3010.370992\n",
       "26    2857.063756\n",
       "27    2954.936412\n",
       "28    3024.344720\n",
       "29    2732.066724\n",
       "30    2616.781478\n",
       "31    2690.756597\n",
       "32    2742.412587\n",
       "33    2520.386734\n",
       "34    2429.593668\n",
       "35    2488.059920\n",
       "dtype: float64"
      ]
     },
     "execution_count": 38,
     "metadata": {},
     "output_type": "execute_result"
    }
   ],
   "source": [
    "hw_add_forecast_values"
   ]
  },
  {
   "cell_type": "code",
   "execution_count": 39,
   "id": "ff18e1f3",
   "metadata": {},
   "outputs": [
    {
     "data": {
      "image/png": "[encoded data removed]",
      "text/plain": [
       "<Figure size 864x576 with 1 Axes>"
      ]
     },
     "metadata": {
      "needs_background": "light"
     },
     "output_type": "display_data"
    }
   ],
   "source": [
    "plt.figure(figsize=(12, 8))\n",
    "plt.plot(periods, list(expenses[\"amount\"]), marker=\"o\", color=\"black\", label=\"amount\")\n",
    "plt.plot(periods, hw_add_fitted_values, marker=\"o\", color=\"red\", label=\"prediction\", linestyle=\"-\")\n",
    "plt.plot(hw_add_forecast_values, marker=\"o\", color=\"green\", label=\"forecast\", linestyle=\"-\")\n",
    "plt.legend()\n",
    "\n",
    "plt.show()"
   ]
  },
  {
   "cell_type": "code",
   "execution_count": 40,
   "id": "8e34f3fc",
   "metadata": {},
   "outputs": [
    {
     "data": {
      "image/png": "[encoded data removed]",
      "text/plain": [
       "<Figure size 864x576 with 1 Axes>"
      ]
     },
     "metadata": {
      "needs_background": "light"
     },
     "output_type": "display_data"
    }
   ],
   "source": [
    "plt.figure(figsize=(12, 8))\n",
    "plt.gca().xaxis.set_major_formatter(mdates.DateFormatter('%Y-%m-%d'))\n",
    "# plt.gca().xaxis.set_major_locator(mdates.DayLocator(interval=30))\n",
    "plt.plot(dates, list(expenses[\"amount\"]), marker=\"o\", color=\"black\", label=\"amount\")\n",
    "plt.plot(dates, hw_add_fitted_values, marker=\"o\", color=\"red\", label=\"prediction\", linestyle=\"-\")\n",
    "plt.plot(future_dates, list(hw_add_forecast_values), marker=\"o\", color=\"green\", label=\"forecast\", linestyle=\"-\")\n",
    "plt.legend()\n",
    "plt.gcf().autofmt_xdate()\n",
    "plt.show()"
   ]
  },
  {
   "cell_type": "code",
   "execution_count": 41,
   "id": "d3363e85",
   "metadata": {},
   "outputs": [],
   "source": [
    "forecast_df = pd.DataFrame({\n",
    "    \"forecast_date\": dates + future_dates,\n",
    "    \"forecast\": hw_add_fitted_values + list (hw_add_forecast_values)\n",
    "})\n",
    "forecast_df[\"forecast_date\"] = forecast_df[\"forecast_date\"].apply(lambda x: x.strftime(\"%m/%d/%Y\"))\n",
    "forecast_df[\"forecast\"] = round(forecast_df[\"forecast\"], 1)"
   ]
  },
  {
   "cell_type": "code",
   "execution_count": 21,
   "id": "d003627a",
   "metadata": {},
   "outputs": [
    {
     "data": {
      "text/html": [
       "<div>\n",
       "<style scoped>\n",
       "    .dataframe tbody tr th:only-of-type {\n",
       "        vertical-align: middle;\n",
       "    }\n",
       "\n",
       "    .dataframe tbody tr th {\n",
       "        vertical-align: top;\n",
       "    }\n",
       "\n",
       "    .dataframe thead th {\n",
       "        text-align: right;\n",
       "    }\n",
       "</style>\n",
       "<table border=\"1\" class=\"dataframe\">\n",
       "  <thead>\n",
       "    <tr style=\"text-align: right;\">\n",
       "      <th></th>\n",
       "      <th>forecast_date</th>\n",
       "      <th>forecast</th>\n",
       "    </tr>\n",
       "  </thead>\n",
       "  <tbody>\n",
       "    <tr>\n",
       "      <th>31</th>\n",
       "      <td>08/31/2023</td>\n",
       "      <td>2747.0</td>\n",
       "    </tr>\n",
       "    <tr>\n",
       "      <th>32</th>\n",
       "      <td>09/30/2023</td>\n",
       "      <td>2580.4</td>\n",
       "    </tr>\n",
       "    <tr>\n",
       "      <th>33</th>\n",
       "      <td>10/31/2023</td>\n",
       "      <td>2573.9</td>\n",
       "    </tr>\n",
       "    <tr>\n",
       "      <th>34</th>\n",
       "      <td>11/30/2023</td>\n",
       "      <td>2471.2</td>\n",
       "    </tr>\n",
       "    <tr>\n",
       "      <th>35</th>\n",
       "      <td>12/31/2023</td>\n",
       "      <td>2595.9</td>\n",
       "    </tr>\n",
       "  </tbody>\n",
       "</table>\n",
       "</div>"
      ],
      "text/plain": [
       "   forecast_date  forecast\n",
       "31    08/31/2023    2747.0\n",
       "32    09/30/2023    2580.4\n",
       "33    10/31/2023    2573.9\n",
       "34    11/30/2023    2471.2\n",
       "35    12/31/2023    2595.9"
      ]
     },
     "execution_count": 21,
     "metadata": {},
     "output_type": "execute_result"
    }
   ],
   "source": [
    "forecast_df.tail()"
   ]
  },
  {
   "cell_type": "code",
   "execution_count": 22,
   "id": "509a6734",
   "metadata": {},
   "outputs": [],
   "source": [
    "# max_forecast_id = db_obj.execute_statement('select max(id) from forecasts;')\n",
    "# max_forecast_id = max_forecast_id[0][0] + 1 if max_forecast_id[0][0] != None else 0\n",
    "# max_forecast_id\n",
    "# values = \"\"\n",
    "# for index, row in forecast_df.iterrows():\n",
    "#     values += f'''({max_forecast_id + 1}, '{row['forecast_date']}', {round(row['forecast'])}), '''\n",
    "#     max_forecast_id += 1\n",
    "# values = values.rstrip(\", \")\n",
    "# values\n",
    "# db_obj.execute_statement(f'''insert into forecasts(id, forecast_date, forecast) values{values};''', linear=True)\n",
    "# db_obj.conn.commit()"
   ]
  },
  {
   "cell_type": "code",
   "execution_count": 42,
   "id": "f975a267",
   "metadata": {},
   "outputs": [],
   "source": [
    "tuples = [tuple(x) for x in forecast_df.to_numpy()]\n",
    "tuples = tuple(tuples)\n",
    "cols = ','.join(list(forecast_df.columns))\n",
    "query  = \"INSERT INTO %s(%s) VALUES %%s\" % (\"forecasts\", cols)\n",
    "extras.execute_values(db_obj.cur, query, tuples)\n",
    "db_obj.conn.commit()"
   ]
  },
  {
   "cell_type": "code",
   "execution_count": 24,
   "id": "ea589e14",
   "metadata": {},
   "outputs": [],
   "source": [
    "forecasted_expenses_query = '''select trim(trailing from \n",
    "to_char(forecast_date, 'Mon')) as month, extract(year from forecast_date) as year, \n",
    "extract(month from forecast_date) as month_num,\n",
    "round(SUM(forecast)::decimal, 2) as forecast from forecasts \n",
    "where id in (select max(id) from forecasts f2 group by forecast_date) \n",
    "group by 1,2,3\n",
    "order by 2,3'''"
   ]
  },
  {
   "cell_type": "code",
   "execution_count": null,
   "id": "5e6c94dc",
   "metadata": {},
   "outputs": [],
   "source": []
  }
 ],
 "metadata": {
  "kernelspec": {
   "display_name": "Python 3",
   "language": "python",
   "name": "python3"
  },
  "language_info": {
   "codemirror_mode": {
    "name": "ipython",
    "version": 3
   },
   "file_extension": ".py",
   "mimetype": "text/x-python",
   "name": "python",
   "nbconvert_exporter": "python",
   "pygments_lexer": "ipython3",
   "version": "3.8.8"
  }
 },
 "nbformat": 4,
 "nbformat_minor": 5
}
